{
 "cells": [
  {
   "cell_type": "markdown",
   "metadata": {},
   "source": [
    "# EX: 1\n",
    "```python\n",
    "\"\"\"Hello world!\n",
    "We hope that you are learning a lot of Python.\n",
    "Have fun with our Bites of Python.\n",
    "Keep calm and code in Python!\n",
    "Become a ninja!\"\"\"\n",
    "```\n",
    "\n",
    "Store the above msg in a variable and Write a function that takes Split the message by newline (\\n) and join it together on '|' (pipe), return the obtained output string."
   ]
  },
  {
   "cell_type": "code",
   "execution_count": null,
   "metadata": {},
   "outputs": [],
   "source": []
  },
  {
   "cell_type": "markdown",
   "metadata": {},
   "source": [
    "# EX: 2\n",
    "\n",
    "- Take the block of text provided and strip off the whitespace at both ends. Split the text by newline (\\n).\n",
    "- Loop through the lines, for each line:\n",
    "\n",
    "1) strip off any leading spaces,  <br>\n",
    "2) check if the first character is lowercase, <br>\n",
    "3) if so, split the line into words and get the last word, <br>\n",
    "4) strip the trailing dot (.) and exclamation mark (!) from this last word,and finally add it to the results list. <br>\n",
    "5) Return the results list.  \n",
    "\n",
    "#### Block of text to use in the program\n",
    "``` python \n",
    "text = \"\"\"\n",
    "One really nice feature of Python is polymorphism: using the same operation\n",
    "on different types of objects.\n",
    "Let's talk about an elegant feature: slicing.\n",
    "You can use this on a string as well as a list for example\n",
    "'python'[0:2] gives 'py'.\n",
    " The first value is inclusive and the last one is exclusive so\n",
    "here we grab indexes 0 and 1, the letter p and y.\n",
    "  When you have a 0 index you can leave it out so can write this as 'python'[:2]\n",
    "but here is the kicker: you can use this on a list too!\n",
    "['I', 'teache', 'you', 'Python'][-2:] would gives ['you', 'Python']\n",
    "and now you know about slicing from the end as well :)\n",
    "keep enjoying our bites!\n",
    "\"\"\"\n",
    "```"
   ]
  },
  {
   "cell_type": "code",
   "execution_count": null,
   "metadata": {},
   "outputs": [],
   "source": []
  },
  {
   "cell_type": "markdown",
   "metadata": {},
   "source": [
    "# EX :3\n",
    "\n",
    "Write a function that Receives a list of numbers, and returns a filtered list of only the numbers that are both positive and even (divisible by 2), try to use a **list comprehension** ."
   ]
  },
  {
   "cell_type": "code",
   "execution_count": null,
   "metadata": {},
   "outputs": [],
   "source": []
  },
  {
   "cell_type": "markdown",
   "metadata": {},
   "source": [
    "# EX: 4\n",
    "\n",
    "- Replace all vowels in the input text string by a asteric character (*).\n",
    "- Return a tuple of (replaced_text, number_of_vowels_found)\n",
    "- So if this function is called like:\n",
    " ``` python \n",
    "strip_vowels('hello world')\n",
    "```      \n",
    "- it would return:\n",
    "``` python \n",
    "('h*ll* w*rld', 3)\n",
    "```\n",
    "    \n",
    "    \n",
    "#### Block of text to use in the program \n",
    "``` python\n",
    "\n",
    "text = \"\"\"\n",
    "The Zen of Python, by Tim Peters\n",
    "Beautiful is better than ugly.\n",
    "Explicit is better than implicit.\n",
    "Simple is better than complex.\n",
    "Complex is better than complicated.\n",
    "Flat is better than nested.\n",
    "Sparse is better than dense.\n",
    "Readability counts.\n",
    "Special cases aren't special enough to break the rules.\n",
    "Although practicality beats purity.\n",
    "Errors should never pass silently.\n",
    "Unless explicitly silenced.\n",
    "In the face of ambiguity, refuse the temptation to guess.\n",
    "There should be one-- and preferably only one --obvious way to do it.\n",
    "Although that way may not be obvious at first unless you're Dutch.\n",
    "Now is better than never.\n",
    "Although never is often better than *right* now.\n",
    "If the implementation is hard to explain, it's a bad idea.\n",
    "If the implementation is easy to explain, it may be a good idea.\n",
    "Namespaces are one honking great idea -- let's do more of those!\n",
    "\"\"\" \n",
    "```"
   ]
  },
  {
   "cell_type": "code",
   "execution_count": null,
   "metadata": {},
   "outputs": [],
   "source": []
  },
  {
   "cell_type": "markdown",
   "metadata": {},
   "source": [
    "# EX : 5\n",
    "\n",
    "Generate a random number between 1 and 9 (including 1 and 9). Ask the user to guess the number, then tell them whether they guessed too low, too high, or exactly right.\n",
    "\n",
    "Extras:\n",
    "\n",
    "Keep the game going until the user types “exit”\n",
    "Keep track of how many guesses the user has taken, and when the game ends, print this out."
   ]
  },
  {
   "cell_type": "code",
   "execution_count": null,
   "metadata": {},
   "outputs": [],
   "source": []
  },
  {
   "cell_type": "markdown",
   "metadata": {},
   "source": [
    "# EX: 6\n",
    "\n",
    "If a game of Tic Tac Toe is represented as a list of lists, like so:\n",
    "``` python \n",
    "game = [[1, 2, 0],\n",
    "\t[2, 1, 0],\n",
    "\t[2, 1, 1]]\n",
    "```\n",
    "\n",
    "**where a 0 means an empty square, a 1 means that player 1 put their token in that space, and a 2 means that player 2 put their token in that space** .\n",
    "\n",
    "Your task is : given a 3 by 3 list of lists that represents a Tic Tac Toe game board, tell me whether anyone has won, and tell me which player won, if any. A Tic Tac Toe win is 3 in a row - either in a row, a column, or a diagonal. Don’t worry about the case where TWO people have won - assume that in every board there will only be one winner.\n",
    "\n",
    "Here are some more examples to work with:\n",
    "``` python\n",
    "winner_is_2 = [[2, 2, 0],\n",
    "\t[2, 1, 0],\n",
    "\t[2, 1, 1]]\n",
    "\n",
    "winner_is_1 = [[1, 2, 0],\n",
    "\t[2, 1, 0],\n",
    "\t[2, 1, 1]]\n",
    "\n",
    "winner_is_also_1 = [[0, 1, 0],\n",
    "\t[2, 1, 0],\n",
    "\t[2, 1, 1]]\n",
    "\n",
    "no_winner = [[1, 2, 0],\n",
    "\t[2, 1, 0],\n",
    "\t[2, 1, 2]]\n",
    "\n",
    "also_no_winner = [[1, 2, 0],\n",
    "\t[2, 1, 0],\n",
    "\t[2, 1, 0]]\n",
    "```"
   ]
  },
  {
   "cell_type": "code",
   "execution_count": null,
   "metadata": {},
   "outputs": [],
   "source": []
  }
 ],
 "metadata": {
  "kernelspec": {
   "display_name": "Python 3",
   "language": "python",
   "name": "python3"
  },
  "language_info": {
   "codemirror_mode": {
    "name": "ipython",
    "version": 3
   },
   "file_extension": ".py",
   "mimetype": "text/x-python",
   "name": "python",
   "nbconvert_exporter": "python",
   "pygments_lexer": "ipython3",
   "version": "3.7.3"
  }
 },
 "nbformat": 4,
 "nbformat_minor": 2
}
