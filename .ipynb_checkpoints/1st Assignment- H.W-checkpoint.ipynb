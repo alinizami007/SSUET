{
 "cells": [
  {
   "cell_type": "code",
   "execution_count": 12,
   "metadata": {},
   "outputs": [
    {
     "name": "stdout",
     "output_type": "stream",
     "text": [
      "Baio Data:-\n",
      "First name:  Ali\n",
      "Last name:  Ali\n",
      "student of:  Ali\n",
      "subject:  Ali\n"
     ]
    }
   ],
   "source": [
    "b =\"Baio Data:-\"\n",
    "x = \"Ali\"\n",
    "q = \"Nizami\"\n",
    "s = \"ssuet\"\n",
    "c = \"AI\"\n",
    "print(b)\n",
    "print('First name: ',x)\n",
    "print('Last name: ',x)\n",
    "print('student of: ' ,x)\n",
    "print('subject: ',x)"
   ]
  },
  {
   "cell_type": "markdown",
   "metadata": {},
   "source": [
    "# Ex : 1\n",
    "a) Write a Python program which accepts the radius of a circle from the user and compute the area\n",
    "\n",
    "b) Create a program that asks the user to enter their name and their age. Print out a message addressed to them that tells them the year that they will turn 100 years old."
   ]
  },
  {
   "cell_type": "code",
   "execution_count": 1,
   "metadata": {},
   "outputs": [
    {
     "name": "stdout",
     "output_type": "stream",
     "text": [
      "Enter  area : 4\n",
      "Area  is : 25.136\n"
     ]
    }
   ],
   "source": [
    "q= int(input(\"Enter  area : \"))\n",
    "#for area calculation we  use formula πr^2 π= 3.142\n",
    "area=  3.142*q*2\n",
    "print(\"Area  is :\",area)"
   ]
  },
  {
   "cell_type": "code",
   "execution_count": 4,
   "metadata": {},
   "outputs": [
    {
     "name": "stdout",
     "output_type": "stream",
     "text": [
      "Enter your name: ali\n",
      "your age: 20\n",
      "you will trun to 100 years in:  2100\n"
     ]
    }
   ],
   "source": [
    "name=input(\"Enter your name: \")\n",
    "old = int(input(\"your age: \"))\n",
    "years= 2020 - old + 100\n",
    "print(\"you will trun to 100 years in: \",years)"
   ]
  },
  {
   "cell_type": "markdown",
   "metadata": {},
   "source": [
    "# Ex : 2\n",
    "Ask the user for a number. Depending on whether the number is even or odd, print out an appropriate message to the user."
   ]
  },
  {
   "cell_type": "code",
   "execution_count": 13,
   "metadata": {},
   "outputs": [
    {
     "name": "stdout",
     "output_type": "stream",
     "text": [
      "Enter any number :545\n",
      "Odd number\n"
     ]
    }
   ],
   "source": [
    "value=int(input(\"Enter any number :\"))\n",
    "if value % 2==0:\n",
    "    print(\"Even no\")\n",
    "elif value % 1 ==0:\n",
    "    print(\"Odd number\")\n",
    "else:\n",
    "    print(\"value is wrong\")"
   ]
  },
  {
   "cell_type": "markdown",
   "metadata": {},
   "source": [
    "# Ex : 3\n",
    "Imagine an alien was just shot down in a game. Create a variable called alien_color and assign it a value of 'green', 'yellow', or 'red'.\n",
    "\n",
    "Write an if statement to test whether the alien’s color is green. If it is, print a message that the player just earned 5 points.\n",
    "\n",
    "Write one version of this program that passes the if test and another that fails. (The version that fails will have no output.)"
   ]
  },
  {
   "cell_type": "code",
   "execution_count": 14,
   "metadata": {},
   "outputs": [
    {
     "name": "stdout",
     "output_type": "stream",
     "text": [
      "Enter aliuen color : red\n",
      "You earned 10 points \n"
     ]
    },
    {
     "data": {
      "text/plain": [
       "'RED'"
      ]
     },
     "execution_count": 14,
     "metadata": {},
     "output_type": "execute_result"
    }
   ],
   "source": [
    "alien_color = input(\"Enter aliuen color : \")\n",
    "\n",
    "if alien_color==\"green\":\n",
    "    print(\" You earn 5 points \")\n",
    "elif alien_color!=\"green\":\n",
    "    print(\"You earned 10 points \")\n",
    "    \n",
    "alien_color.upper()    "
   ]
  },
  {
   "cell_type": "markdown",
   "metadata": {},
   "source": [
    "## Ex : 5\n",
    "\n",
    "Write an if-elif-else chain that determines a person’s stage of life. Set a value for the variable age, and then:\n",
    "\n",
    "-\t If the person is less than 2 years old, print a message that the person is a baby.\n",
    "-\t If the person is at least 2 years old but less than 4, print a message that the person is a toddler.\n",
    "-\t If the person is at least 4 years old but less than 13, print a message that the person is a kid.\n",
    "-\t If the person is at least 13 years old but less than 20, print a message that the person is a teenager.\n",
    "-\t If the person is at least 20 years old but less than 65, print a message that the person is an adult.\n",
    "-\t If the person is age 65 or older, print a message that the person is an elder"
   ]
  },
  {
   "cell_type": "code",
   "execution_count": 17,
   "metadata": {},
   "outputs": [
    {
     "name": "stdout",
     "output_type": "stream",
     "text": [
      "Enter person age :909\n",
      "person is an elder.\n"
     ]
    }
   ],
   "source": [
    "old = int(input(\"Enter person age :\"))\n",
    "if old<2:\n",
    "    print(\"person is a baby.\")\n",
    "elif old==2 or old<4:\n",
    "    print(\"person is a toddler.\")\n",
    "elif old==4 or old<13:\n",
    "    print(\"the person is a kid.\")\n",
    "elif old==13 or old<20:\n",
    "    print(\"the person is a teenager.\")\n",
    "elif old==20 or old<65: \n",
    "    print(\"the person is an adult.\")\n",
    "elif old==65 or old>65:\n",
    "    print(\"person is an elder.\")"
   ]
  },
  {
   "cell_type": "code",
   "execution_count": null,
   "metadata": {},
   "outputs": [],
   "source": []
  }
 ],
 "metadata": {
  "kernelspec": {
   "display_name": "Python 3",
   "language": "python",
   "name": "python3"
  },
  "language_info": {
   "codemirror_mode": {
    "name": "ipython",
    "version": 3
   },
   "file_extension": ".py",
   "mimetype": "text/x-python",
   "name": "python",
   "nbconvert_exporter": "python",
   "pygments_lexer": "ipython3",
   "version": "3.7.4"
  }
 },
 "nbformat": 4,
 "nbformat_minor": 2
}
