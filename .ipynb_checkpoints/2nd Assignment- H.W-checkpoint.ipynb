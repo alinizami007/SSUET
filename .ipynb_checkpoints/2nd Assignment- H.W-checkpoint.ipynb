{
 "cells": [
  {
   "cell_type": "markdown",
   "metadata": {},
   "source": [
    "## 1. Divisibility Check of two numbers\n",
    "\n",
    "Write a Python program to check whether a number is completely divisible by another number. Accept two integer values form the user\n",
    "##### Program Console Sample Output 1:\n",
    "Enter numerator: 4\n",
    "\n",
    "Enter Denominator: 2\n",
    "\n",
    "Number 4 is Completely divisible by 2\n",
    "###### Program Console Sample Output 2:\n",
    "Enter numerator: 7\n",
    "\n",
    "Enter Denominator: 4\n",
    "\n",
    "Number 7 is not Completely divisible by 4"
   ]
  },
  {
   "cell_type": "code",
   "execution_count": 17,
   "metadata": {},
   "outputs": [
    {
     "name": "stdout",
     "output_type": "stream",
     "text": [
      "Enter numerator: 81\n",
      "Enter Denomenator: 9\n",
      "Number is divisble by  9\n"
     ]
    }
   ],
   "source": [
    "a1=int(input(\"Enter numerator: \"))\n",
    "a2=int(input(\"Enter Denomenator: \"))\n",
    "if a1 % a2 ==0:\n",
    "    print(\"Number is divisble by \",a2)\n",
    "else:\n",
    "    \n",
    "    print(\"Number is not divsible by  \",a2)"
   ]
  },
  {
   "cell_type": "markdown",
   "metadata": {},
   "source": [
    "# 2. Copy string n times\n",
    "Write a Python program to get a string which is n (non-negative integer) copies of a given string.\n",
    "##### Program Console Output:\n",
    "Enter String: Hi\n",
    "\n",
    "How many copies of String you need: 4\n",
    "\n",
    "4 Copies of Hi are HiHiHiHi"
   ]
  },
  {
   "cell_type": "code",
   "execution_count": 4,
   "metadata": {},
   "outputs": [
    {
     "name": "stdout",
     "output_type": "stream",
     "text": [
      "Enter any value : Hi\n",
      "how many copies is your need : 20\n",
      "HiHiHiHiHiHiHiHiHiHiHiHiHiHiHiHiHiHiHiHi\n"
     ]
    }
   ],
   "source": [
    "q=input(\"Enter any value : \")\n",
    "w=int(input(\"how many copies is your need : \"))\n",
    "print(q*w)"
   ]
  },
  {
   "cell_type": "markdown",
   "metadata": {},
   "source": [
    "# 3. Vowel Tester\n",
    "Write a Python program to test whether a passed letter is a vowel or not\n",
    "\n",
    "Program Console Output 1:\n",
    "Enter a character: A\n",
    "\n",
    "Letter A is Vowel\n",
    "\n",
    "Program Console Output 2:\n",
    "Enter a character: e\n",
    "\n",
    "Letter e is Vowel\n",
    "\n",
    "Program Console Output 2:\n",
    "Enter a character: N Letter N is not Vowel"
   ]
  },
  {
   "cell_type": "code",
   "execution_count": 26,
   "metadata": {},
   "outputs": [
    {
     "name": "stdout",
     "output_type": "stream",
     "text": [
      "ENTER A CHARACTER: e\n",
      "LETTER e IS A VOWEL\n"
     ]
    }
   ],
   "source": [
    "vowels=[\"A\",\"E\",\"I\",\"O\",\"U\"]\n",
    "character=input(\"ENTER A CHARACTER: \")\n",
    "if character.upper() in vowels:\n",
    "    print(\"LETTER\",character,\"IS A VOWEL\")\n",
    "else:\n",
    "    print(\"LETTER\",character,\"IS NOT VOWEL\")"
   ]
  },
  {
   "cell_type": "markdown",
   "metadata": {},
   "source": [
    "## 4. Odd No.s\n",
    "Use the third argument of the range() function to make a list of the odd numbers from 1 to 20. Use a for loop to print each number."
   ]
  },
  {
   "cell_type": "code",
   "execution_count": 41,
   "metadata": {},
   "outputs": [
    {
     "name": "stdout",
     "output_type": "stream",
     "text": [
      "1\n",
      "3\n",
      "5\n",
      "7\n",
      "9\n",
      "11\n",
      "13\n",
      "15\n",
      "17\n",
      "19\n",
      "19\n",
      "17\n",
      "15\n",
      "13\n",
      "11\n",
      "9\n",
      "7\n",
      "5\n",
      "3\n",
      "1\n"
     ]
    }
   ],
   "source": [
    "for a in range (1,20,2):\n",
    "    print (a)\n",
    "    \n",
    "for q in range (19,0,-2):\n",
    "    print (q)\n",
    "    "
   ]
  },
  {
   "cell_type": "markdown",
   "metadata": {},
   "source": [
    "## 5. Food Slicing\n",
    "Make a python program that contains your nine favourite dishes in a list called foods.Print the message, \n",
    "\n",
    "**The first three items in the list are:**\n",
    "\n",
    "Then use a slice to print the first three items from that program’s list.Print the message, \n",
    "\n",
    "**Three items from the middle of the list are:**\n",
    "\n",
    "Use a slice to print three items from the middle of the list.Print the message, \n",
    "\n",
    "**The last three items in the list are:**\n",
    "\n",
    "Use a slice to print the last three items in the list."
   ]
  },
  {
   "cell_type": "code",
   "execution_count": 46,
   "metadata": {},
   "outputs": [
    {
     "name": "stdout",
     "output_type": "stream",
     "text": [
      "THE FIRST THREE FOOD IN THE LIST ARE: ['Pizza', 'Burger', 'Biryani']\n",
      "THE FOOD FROM THE MIDDLE OF THE LIST ARE: ['Shawarma', 'Nihari', 'Chormma']\n",
      "THE LAST THREE FOODS ARE IN THE LIST : ['ice cream', 'cherry pie', 'Tea & biscuits']\n"
     ]
    }
   ],
   "source": [
    "foods=['Pizza','Burger','Biryani','Shawarma','Nihari','Chormma','ice cream','cherry pie','Tea & biscuits']\n",
    "print(\"THE FIRST THREE FOOD IN THE LIST ARE:\",foods[0:3])\n",
    "print(\"THE FOOD FROM THE MIDDLE OF THE LIST ARE:\",foods[3:6])\n",
    "print(\"THE LAST THREE FOODS ARE IN THE LIST :\",foods[6:9])\n"
   ]
  },
  {
   "cell_type": "code",
   "execution_count": null,
   "metadata": {},
   "outputs": [],
   "source": []
  }
 ],
 "metadata": {
  "kernelspec": {
   "display_name": "Python 3",
   "language": "python",
   "name": "python3"
  },
  "language_info": {
   "codemirror_mode": {
    "name": "ipython",
    "version": 3
   },
   "file_extension": ".py",
   "mimetype": "text/x-python",
   "name": "python",
   "nbconvert_exporter": "python",
   "pygments_lexer": "ipython3",
   "version": "3.7.4"
  }
 },
 "nbformat": 4,
 "nbformat_minor": 2
}
